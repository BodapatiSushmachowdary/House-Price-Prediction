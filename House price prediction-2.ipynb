{
 "cells": [
  {
   "cell_type": "markdown",
   "metadata": {},
   "source": [
    "# House Price Prediction\n",
    "\n",
    "### Dataset - 2"
   ]
  },
  {
   "cell_type": "markdown",
   "metadata": {},
   "source": [
    "## Description:\n",
    "Accurately predicting house prices can be a daunting task. The buyers are just not concerned about the size(square feet) of the house and there are various other factors that play a key role to decide the price of a house/property. It can be extremely difficult to figure out the right set of attributes that are contributing to understanding the buyer's behavior as such. This dataset has been collected across various property aggregators across.\n"
   ]
  },
  {
   "cell_type": "markdown",
   "metadata": {},
   "source": [
    "## Date set:\n",
    "We divided into 3 datasets each daatset conatining 7 cloumns and 1000 rows with csv extension.\n",
    "The data contains the following columns :\n",
    "\n",
    "‘Avg. Area Income’ – Avg. The income of the householder of the city house is located.\n",
    "‘Avg. Area House Age’ – Avg. Age of Houses in the same city.\n",
    "‘Avg. Area Number of Rooms’ – Avg. Number of Rooms for Houses in the same city.\n",
    "‘Avg. Area Number of Bedrooms’ – Avg. Number of Bedrooms for Houses in the same city.\n",
    "‘Area Population’ – Population of the city.\n",
    "‘Price’ – Price that the house sold at.\n",
    "‘Address’ – Address of the houses."
   ]
  },
  {
   "cell_type": "markdown",
   "metadata": {},
   "source": [
    "## visualization:\n",
    "Pair plot:\n",
    "Pair plot is used to understand the best set of features to explain a relationship between two variables or to form the most separated clusters.\n",
    "Dist plot:\n",
    "Distplot is a combination of a histogram with a line on it.\n",
    "Heat map:\n",
    "A heat map represents these coefficients to visualize the strength of correlation among variables.\n",
    "Scatter plot:\n",
    "Scatter plots shows how much one variable is affected by another or the relationship between them with the help of dots in two dimensions.\n"
   ]
  },
  {
   "cell_type": "markdown",
   "metadata": {},
   "source": [
    "## Python packages:\n",
    "Numpy:  is a library used to add support for large, multi-dimensional arrays and matrices, along with a large collection of high-level mathematical functions to operate on these arrays.\n",
    "\n",
    "Pandas: it is used to work with datasets, for data manipulation and analysis. In particular,  it offers data structures and operations for manipulating numerical tables and time series.\n",
    "\n",
    "Seaborn: is a library that uses Matplotlib underneath to plot graphs. It will be used to visualize random distributions.\n",
    "\n",
    "Matplotlib: is a comprehensive library for creating static, animated, and interactive visualizations in Python​"
   ]
  },
  {
   "cell_type": "markdown",
   "metadata": {},
   "source": [
    "### Import Libraries"
   ]
  },
  {
   "cell_type": "code",
   "execution_count": 2,
   "metadata": {},
   "outputs": [],
   "source": [
    "import pandas as pd\n",
    "import numpy as np\n",
    "import seaborn as sns\n",
    "import matplotlib.pyplot as plt\n",
    "\n",
    "%matplotlib inline"
   ]
  },
  {
   "cell_type": "markdown",
   "metadata": {},
   "source": [
    "### Importing Data and Checking out."
   ]
  },
  {
   "cell_type": "code",
   "execution_count": 3,
   "metadata": {},
   "outputs": [],
   "source": [
    "HouseDF = pd.read_csv('USA_Housing_2.csv')"
   ]
  },
  {
   "cell_type": "code",
   "execution_count": 4,
   "metadata": {
    "scrolled": true
   },
   "outputs": [
    {
     "data": {
      "text/html": [
       "<div>\n",
       "<style scoped>\n",
       "    .dataframe tbody tr th:only-of-type {\n",
       "        vertical-align: middle;\n",
       "    }\n",
       "\n",
       "    .dataframe tbody tr th {\n",
       "        vertical-align: top;\n",
       "    }\n",
       "\n",
       "    .dataframe thead th {\n",
       "        text-align: right;\n",
       "    }\n",
       "</style>\n",
       "<table border=\"1\" class=\"dataframe\">\n",
       "  <thead>\n",
       "    <tr style=\"text-align: right;\">\n",
       "      <th></th>\n",
       "      <th>Avg. Area Income</th>\n",
       "      <th>Avg. Area House Age</th>\n",
       "      <th>Avg. Area Number of Rooms</th>\n",
       "      <th>Avg. Area Number of Bedrooms</th>\n",
       "      <th>Area Population</th>\n",
       "      <th>Price</th>\n",
       "      <th>Address</th>\n",
       "    </tr>\n",
       "  </thead>\n",
       "  <tbody>\n",
       "    <tr>\n",
       "      <th>0</th>\n",
       "      <td>56423.03428</td>\n",
       "      <td>4.670847</td>\n",
       "      <td>8.109865</td>\n",
       "      <td>3.03</td>\n",
       "      <td>40155.74285</td>\n",
       "      <td>1.000217e+06</td>\n",
       "      <td>460 Morales Islands Apt. 118\\nWest Jeffrey, NE...</td>\n",
       "    </tr>\n",
       "    <tr>\n",
       "      <th>1</th>\n",
       "      <td>66678.06217</td>\n",
       "      <td>3.907841</td>\n",
       "      <td>7.496089</td>\n",
       "      <td>5.02</td>\n",
       "      <td>23031.17032</td>\n",
       "      <td>5.870078e+05</td>\n",
       "      <td>827 Ferguson Isle\\nRosebury, AL 61416-3167</td>\n",
       "    </tr>\n",
       "    <tr>\n",
       "      <th>2</th>\n",
       "      <td>71517.01424</td>\n",
       "      <td>7.905595</td>\n",
       "      <td>7.731386</td>\n",
       "      <td>5.02</td>\n",
       "      <td>40239.28257</td>\n",
       "      <td>1.734373e+06</td>\n",
       "      <td>653 Parker Overpass Suite 506\\nSusanshire, AZ ...</td>\n",
       "    </tr>\n",
       "    <tr>\n",
       "      <th>3</th>\n",
       "      <td>66097.62203</td>\n",
       "      <td>3.979496</td>\n",
       "      <td>6.151771</td>\n",
       "      <td>4.19</td>\n",
       "      <td>37467.59631</td>\n",
       "      <td>7.621673e+05</td>\n",
       "      <td>41962 Castro Groves Suite 053\\nJacquelinestad,...</td>\n",
       "    </tr>\n",
       "    <tr>\n",
       "      <th>4</th>\n",
       "      <td>76423.31757</td>\n",
       "      <td>7.561879</td>\n",
       "      <td>7.672937</td>\n",
       "      <td>5.25</td>\n",
       "      <td>24402.23731</td>\n",
       "      <td>1.532846e+06</td>\n",
       "      <td>66807 Johnson Prairie Apt. 849\\nHernandezhaven...</td>\n",
       "    </tr>\n",
       "  </tbody>\n",
       "</table>\n",
       "</div>"
      ],
      "text/plain": [
       "   Avg. Area Income  Avg. Area House Age  Avg. Area Number of Rooms  \\\n",
       "0       56423.03428             4.670847                   8.109865   \n",
       "1       66678.06217             3.907841                   7.496089   \n",
       "2       71517.01424             7.905595                   7.731386   \n",
       "3       66097.62203             3.979496                   6.151771   \n",
       "4       76423.31757             7.561879                   7.672937   \n",
       "\n",
       "   Avg. Area Number of Bedrooms  Area Population         Price  \\\n",
       "0                          3.03      40155.74285  1.000217e+06   \n",
       "1                          5.02      23031.17032  5.870078e+05   \n",
       "2                          5.02      40239.28257  1.734373e+06   \n",
       "3                          4.19      37467.59631  7.621673e+05   \n",
       "4                          5.25      24402.23731  1.532846e+06   \n",
       "\n",
       "                                             Address  \n",
       "0  460 Morales Islands Apt. 118\\nWest Jeffrey, NE...  \n",
       "1         827 Ferguson Isle\\nRosebury, AL 61416-3167  \n",
       "2  653 Parker Overpass Suite 506\\nSusanshire, AZ ...  \n",
       "3  41962 Castro Groves Suite 053\\nJacquelinestad,...  \n",
       "4  66807 Johnson Prairie Apt. 849\\nHernandezhaven...  "
      ]
     },
     "execution_count": 4,
     "metadata": {},
     "output_type": "execute_result"
    }
   ],
   "source": [
    "HouseDF.head()"
   ]
  },
  {
   "cell_type": "code",
   "execution_count": 5,
   "metadata": {},
   "outputs": [
    {
     "name": "stdout",
     "output_type": "stream",
     "text": [
      "<class 'pandas.core.frame.DataFrame'>\n",
      "RangeIndex: 1000 entries, 0 to 999\n",
      "Data columns (total 7 columns):\n",
      " #   Column                        Non-Null Count  Dtype  \n",
      "---  ------                        --------------  -----  \n",
      " 0   Avg. Area Income              1000 non-null   float64\n",
      " 1   Avg. Area House Age           1000 non-null   float64\n",
      " 2   Avg. Area Number of Rooms     1000 non-null   float64\n",
      " 3   Avg. Area Number of Bedrooms  1000 non-null   float64\n",
      " 4   Area Population               1000 non-null   float64\n",
      " 5   Price                         1000 non-null   float64\n",
      " 6   Address                       1000 non-null   object \n",
      "dtypes: float64(6), object(1)\n",
      "memory usage: 54.8+ KB\n"
     ]
    }
   ],
   "source": [
    "HouseDF.info()"
   ]
  },
  {
   "cell_type": "code",
   "execution_count": 6,
   "metadata": {
    "scrolled": true
   },
   "outputs": [
    {
     "data": {
      "text/html": [
       "<div>\n",
       "<style scoped>\n",
       "    .dataframe tbody tr th:only-of-type {\n",
       "        vertical-align: middle;\n",
       "    }\n",
       "\n",
       "    .dataframe tbody tr th {\n",
       "        vertical-align: top;\n",
       "    }\n",
       "\n",
       "    .dataframe thead th {\n",
       "        text-align: right;\n",
       "    }\n",
       "</style>\n",
       "<table border=\"1\" class=\"dataframe\">\n",
       "  <thead>\n",
       "    <tr style=\"text-align: right;\">\n",
       "      <th></th>\n",
       "      <th>Avg. Area Income</th>\n",
       "      <th>Avg. Area House Age</th>\n",
       "      <th>Avg. Area Number of Rooms</th>\n",
       "      <th>Avg. Area Number of Bedrooms</th>\n",
       "      <th>Area Population</th>\n",
       "      <th>Price</th>\n",
       "    </tr>\n",
       "  </thead>\n",
       "  <tbody>\n",
       "    <tr>\n",
       "      <th>count</th>\n",
       "      <td>1000.000000</td>\n",
       "      <td>1000.000000</td>\n",
       "      <td>1000.000000</td>\n",
       "      <td>1000.000000</td>\n",
       "      <td>1000.000000</td>\n",
       "      <td>1.000000e+03</td>\n",
       "    </tr>\n",
       "    <tr>\n",
       "      <th>mean</th>\n",
       "      <td>68494.781137</td>\n",
       "      <td>5.947322</td>\n",
       "      <td>6.997602</td>\n",
       "      <td>4.001170</td>\n",
       "      <td>36079.496617</td>\n",
       "      <td>1.223094e+06</td>\n",
       "    </tr>\n",
       "    <tr>\n",
       "      <th>std</th>\n",
       "      <td>10881.128884</td>\n",
       "      <td>1.031223</td>\n",
       "      <td>1.012059</td>\n",
       "      <td>1.232425</td>\n",
       "      <td>9672.583756</td>\n",
       "      <td>3.670742e+05</td>\n",
       "    </tr>\n",
       "    <tr>\n",
       "      <th>min</th>\n",
       "      <td>35963.330810</td>\n",
       "      <td>2.644304</td>\n",
       "      <td>3.950973</td>\n",
       "      <td>2.000000</td>\n",
       "      <td>3285.450538</td>\n",
       "      <td>3.114052e+04</td>\n",
       "    </tr>\n",
       "    <tr>\n",
       "      <th>25%</th>\n",
       "      <td>61307.895688</td>\n",
       "      <td>5.269245</td>\n",
       "      <td>6.289393</td>\n",
       "      <td>3.170000</td>\n",
       "      <td>29286.267058</td>\n",
       "      <td>9.741244e+05</td>\n",
       "    </tr>\n",
       "    <tr>\n",
       "      <th>50%</th>\n",
       "      <td>68566.053405</td>\n",
       "      <td>5.939188</td>\n",
       "      <td>7.002757</td>\n",
       "      <td>4.065000</td>\n",
       "      <td>36241.703370</td>\n",
       "      <td>1.231733e+06</td>\n",
       "    </tr>\n",
       "    <tr>\n",
       "      <th>75%</th>\n",
       "      <td>76019.250150</td>\n",
       "      <td>6.658052</td>\n",
       "      <td>7.721871</td>\n",
       "      <td>4.500000</td>\n",
       "      <td>42428.689090</td>\n",
       "      <td>1.474882e+06</td>\n",
       "    </tr>\n",
       "    <tr>\n",
       "      <th>max</th>\n",
       "      <td>104702.724300</td>\n",
       "      <td>8.991399</td>\n",
       "      <td>10.759588</td>\n",
       "      <td>6.500000</td>\n",
       "      <td>69592.040240</td>\n",
       "      <td>2.318286e+06</td>\n",
       "    </tr>\n",
       "  </tbody>\n",
       "</table>\n",
       "</div>"
      ],
      "text/plain": [
       "       Avg. Area Income  Avg. Area House Age  Avg. Area Number of Rooms  \\\n",
       "count       1000.000000          1000.000000                1000.000000   \n",
       "mean       68494.781137             5.947322                   6.997602   \n",
       "std        10881.128884             1.031223                   1.012059   \n",
       "min        35963.330810             2.644304                   3.950973   \n",
       "25%        61307.895688             5.269245                   6.289393   \n",
       "50%        68566.053405             5.939188                   7.002757   \n",
       "75%        76019.250150             6.658052                   7.721871   \n",
       "max       104702.724300             8.991399                  10.759588   \n",
       "\n",
       "       Avg. Area Number of Bedrooms  Area Population         Price  \n",
       "count                   1000.000000      1000.000000  1.000000e+03  \n",
       "mean                       4.001170     36079.496617  1.223094e+06  \n",
       "std                        1.232425      9672.583756  3.670742e+05  \n",
       "min                        2.000000      3285.450538  3.114052e+04  \n",
       "25%                        3.170000     29286.267058  9.741244e+05  \n",
       "50%                        4.065000     36241.703370  1.231733e+06  \n",
       "75%                        4.500000     42428.689090  1.474882e+06  \n",
       "max                        6.500000     69592.040240  2.318286e+06  "
      ]
     },
     "execution_count": 6,
     "metadata": {},
     "output_type": "execute_result"
    }
   ],
   "source": [
    "HouseDF.describe()"
   ]
  },
  {
   "cell_type": "code",
   "execution_count": 7,
   "metadata": {
    "scrolled": true
   },
   "outputs": [
    {
     "data": {
      "text/plain": [
       "Index(['Avg. Area Income', 'Avg. Area House Age', 'Avg. Area Number of Rooms',\n",
       "       'Avg. Area Number of Bedrooms', 'Area Population', 'Price', 'Address'],\n",
       "      dtype='object')"
      ]
     },
     "execution_count": 7,
     "metadata": {},
     "output_type": "execute_result"
    }
   ],
   "source": [
    "HouseDF.columns"
   ]
  },
  {
   "cell_type": "markdown",
   "metadata": {},
   "source": [
    "## Exploratory Data Analysis for House Price Prediction"
   ]
  },
  {
   "cell_type": "code",
   "execution_count": null,
   "metadata": {},
   "outputs": [],
   "source": [
    "sns.pairplot(HouseDF)"
   ]
  },
  {
   "cell_type": "code",
   "execution_count": null,
   "metadata": {},
   "outputs": [],
   "source": [
    "sns.distplot(HouseDF['Price'])"
   ]
  },
  {
   "cell_type": "code",
   "execution_count": null,
   "metadata": {},
   "outputs": [],
   "source": [
    "sns.heatmap(HouseDF.corr(), annot=True)"
   ]
  },
  {
   "cell_type": "markdown",
   "metadata": {},
   "source": [
    "## Training a Linear Regression Model\n",
    "\n",
    "### X and y List"
   ]
  },
  {
   "cell_type": "code",
   "execution_count": null,
   "metadata": {},
   "outputs": [],
   "source": [
    "X = HouseDF[['Avg. Area Income', 'Avg. Area House Age', 'Avg. Area Number of Rooms',\n",
    "               'Avg. Area Number of Bedrooms', 'Area Population']]\n",
    "\n",
    "y = HouseDF['Price']"
   ]
  },
  {
   "cell_type": "markdown",
   "metadata": {},
   "source": [
    "### Split Data into Train, Test"
   ]
  },
  {
   "cell_type": "code",
   "execution_count": null,
   "metadata": {},
   "outputs": [],
   "source": [
    "from sklearn.model_selection import train_test_split"
   ]
  },
  {
   "cell_type": "code",
   "execution_count": null,
   "metadata": {},
   "outputs": [],
   "source": [
    "X_train, X_test, y_train, y_test = train_test_split(X, y, test_size=0.4, random_state=101)"
   ]
  },
  {
   "cell_type": "markdown",
   "metadata": {},
   "source": [
    "## Creating and Training the LinearRegression Model"
   ]
  },
  {
   "cell_type": "code",
   "execution_count": null,
   "metadata": {},
   "outputs": [],
   "source": [
    "from sklearn.linear_model import LinearRegression"
   ]
  },
  {
   "cell_type": "code",
   "execution_count": null,
   "metadata": {},
   "outputs": [],
   "source": [
    "lm = LinearRegression()"
   ]
  },
  {
   "cell_type": "code",
   "execution_count": null,
   "metadata": {},
   "outputs": [],
   "source": [
    "lm.fit(X_train,y_train)"
   ]
  },
  {
   "cell_type": "markdown",
   "metadata": {},
   "source": [
    "## LinearRegression Model Evaluation"
   ]
  },
  {
   "cell_type": "code",
   "execution_count": null,
   "metadata": {},
   "outputs": [],
   "source": [
    "print(lm.intercept_)"
   ]
  },
  {
   "cell_type": "code",
   "execution_count": null,
   "metadata": {},
   "outputs": [],
   "source": [
    "coeff_df = pd.DataFrame(lm.coef_,X.columns,columns=['Coefficient'])\n",
    "coeff_df"
   ]
  },
  {
   "cell_type": "markdown",
   "metadata": {},
   "source": [
    "## Predictions from our Linear Regression Model"
   ]
  },
  {
   "cell_type": "code",
   "execution_count": null,
   "metadata": {},
   "outputs": [],
   "source": [
    "predictions = lm.predict(X_test)"
   ]
  },
  {
   "cell_type": "code",
   "execution_count": null,
   "metadata": {},
   "outputs": [],
   "source": [
    "#print(predictions)\n",
    "\n",
    "from sklearn.metrics import accuracy_score\n",
    "\n",
    "#print(accuracy_score(y_test,predictions))"
   ]
  },
  {
   "cell_type": "code",
   "execution_count": null,
   "metadata": {},
   "outputs": [],
   "source": [
    "lm.score(X_test, y_test)"
   ]
  },
  {
   "cell_type": "code",
   "execution_count": null,
   "metadata": {},
   "outputs": [],
   "source": [
    "plt.scatter(y_test,predictions)"
   ]
  },
  {
   "cell_type": "markdown",
   "metadata": {},
   "source": [
    "In the above scatter plot, we see data is in line shape, which means our model has done good predictions."
   ]
  },
  {
   "cell_type": "code",
   "execution_count": null,
   "metadata": {},
   "outputs": [],
   "source": [
    "sns.distplot((y_test-predictions),bins=50);"
   ]
  },
  {
   "cell_type": "markdown",
   "metadata": {},
   "source": [
    "In the above histogram plot, we see data is in bell shape (Normally Distributed), which means our model has done good predictions."
   ]
  },
  {
   "cell_type": "markdown",
   "metadata": {},
   "source": [
    "## Regression Evaluation Metrics"
   ]
  },
  {
   "cell_type": "code",
   "execution_count": null,
   "metadata": {},
   "outputs": [],
   "source": [
    "from sklearn import metrics"
   ]
  },
  {
   "cell_type": "code",
   "execution_count": null,
   "metadata": {
    "scrolled": true
   },
   "outputs": [],
   "source": [
    "print('MAE:', metrics.mean_absolute_error(y_test, predictions))\n",
    "print('MSE:', metrics.mean_squared_error(y_test, predictions))\n",
    "print('RMSE:', np.sqrt(metrics.mean_squared_error(y_test, predictions)))"
   ]
  },
  {
   "cell_type": "markdown",
   "metadata": {},
   "source": [
    "## SVR"
   ]
  },
  {
   "cell_type": "code",
   "execution_count": null,
   "metadata": {},
   "outputs": [],
   "source": [
    "from sklearn.svm import SVR\n",
    "svr = SVR(C=100000)\n",
    "svr.fit(X_train, y_train)\n",
    "predictions = svr.predict(X_test)"
   ]
  },
  {
   "cell_type": "code",
   "execution_count": null,
   "metadata": {
    "scrolled": true
   },
   "outputs": [],
   "source": [
    "svr.score(X_test, y_test)"
   ]
  },
  {
   "cell_type": "markdown",
   "metadata": {},
   "source": [
    "## KNN"
   ]
  },
  {
   "cell_type": "code",
   "execution_count": null,
   "metadata": {},
   "outputs": [],
   "source": [
    "from sklearn.neighbors import KNeighborsRegressor\n",
    "\n",
    "knn_model=KNeighborsRegressor()\n",
    "knn_model.fit(X_train, y_train)\n",
    "knn_model.score(X_test,y_test)"
   ]
  },
  {
   "cell_type": "markdown",
   "metadata": {},
   "source": [
    "## Desicion tree"
   ]
  },
  {
   "cell_type": "code",
   "execution_count": null,
   "metadata": {},
   "outputs": [],
   "source": [
    "from sklearn.tree import DecisionTreeRegressor\n",
    "\n",
    "dtr_model=DecisionTreeRegressor(max_depth=5)\n",
    "dtr_model.fit(X_train, y_train)\n",
    "dtr_model.score(X_test,y_test)"
   ]
  },
  {
   "cell_type": "code",
   "execution_count": null,
   "metadata": {},
   "outputs": [],
   "source": []
  }
 ],
 "metadata": {
  "kernelspec": {
   "display_name": "Python 3 (ipykernel)",
   "language": "python",
   "name": "python3"
  },
  "language_info": {
   "codemirror_mode": {
    "name": "ipython",
    "version": 3
   },
   "file_extension": ".py",
   "mimetype": "text/x-python",
   "name": "python",
   "nbconvert_exporter": "python",
   "pygments_lexer": "ipython3",
   "version": "3.9.12"
  }
 },
 "nbformat": 4,
 "nbformat_minor": 2
}
